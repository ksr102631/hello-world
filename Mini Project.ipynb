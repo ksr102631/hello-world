{
 "cells": [
  {
   "cell_type": "code",
   "execution_count": 1,
   "metadata": {
    "collapsed": true
   },
   "outputs": [],
   "source": [
    "import pandas as pd"
   ]
  },
  {
   "cell_type": "code",
   "execution_count": 2,
   "metadata": {
    "collapsed": true
   },
   "outputs": [],
   "source": [
    "import matplotlib.pyplot as plt"
   ]
  },
  {
   "cell_type": "code",
   "execution_count": 3,
   "metadata": {
    "collapsed": true
   },
   "outputs": [],
   "source": [
    "% matplotlib inline"
   ]
  },
  {
   "cell_type": "code",
   "execution_count": 4,
   "metadata": {
    "collapsed": true
   },
   "outputs": [],
   "source": [
    "data = pd.read_csv(\"indicators.csv\")"
   ]
  },
  {
   "cell_type": "code",
   "execution_count": 5,
   "metadata": {
    "collapsed": false
   },
   "outputs": [
    {
     "data": {
      "text/html": [
       "<div>\n",
       "<table border=\"1\" class=\"dataframe\">\n",
       "  <thead>\n",
       "    <tr style=\"text-align: right;\">\n",
       "      <th></th>\n",
       "      <th>CountryName</th>\n",
       "      <th>CountryCode</th>\n",
       "      <th>IndicatorName</th>\n",
       "      <th>IndicatorCode</th>\n",
       "      <th>Year</th>\n",
       "      <th>Value</th>\n",
       "    </tr>\n",
       "  </thead>\n",
       "  <tbody>\n",
       "    <tr>\n",
       "      <th>0</th>\n",
       "      <td>Arab World</td>\n",
       "      <td>ARB</td>\n",
       "      <td>Adolescent fertility rate (births per 1,000 wo...</td>\n",
       "      <td>SP.ADO.TFRT</td>\n",
       "      <td>1960</td>\n",
       "      <td>133.560907</td>\n",
       "    </tr>\n",
       "    <tr>\n",
       "      <th>1</th>\n",
       "      <td>Arab World</td>\n",
       "      <td>ARB</td>\n",
       "      <td>Age dependency ratio (% of working-age populat...</td>\n",
       "      <td>SP.POP.DPND</td>\n",
       "      <td>1960</td>\n",
       "      <td>87.797601</td>\n",
       "    </tr>\n",
       "    <tr>\n",
       "      <th>2</th>\n",
       "      <td>Arab World</td>\n",
       "      <td>ARB</td>\n",
       "      <td>Age dependency ratio, old (% of working-age po...</td>\n",
       "      <td>SP.POP.DPND.OL</td>\n",
       "      <td>1960</td>\n",
       "      <td>6.634579</td>\n",
       "    </tr>\n",
       "  </tbody>\n",
       "</table>\n",
       "</div>"
      ],
      "text/plain": [
       "  CountryName CountryCode                                      IndicatorName  \\\n",
       "0  Arab World         ARB  Adolescent fertility rate (births per 1,000 wo...   \n",
       "1  Arab World         ARB  Age dependency ratio (% of working-age populat...   \n",
       "2  Arab World         ARB  Age dependency ratio, old (% of working-age po...   \n",
       "\n",
       "    IndicatorCode  Year       Value  \n",
       "0     SP.ADO.TFRT  1960  133.560907  \n",
       "1     SP.POP.DPND  1960   87.797601  \n",
       "2  SP.POP.DPND.OL  1960    6.634579  "
      ]
     },
     "execution_count": 5,
     "metadata": {},
     "output_type": "execute_result"
    }
   ],
   "source": [
    "data.head(3)"
   ]
  },
  {
   "cell_type": "code",
   "execution_count": 7,
   "metadata": {
    "collapsed": false
   },
   "outputs": [
    {
     "data": {
      "text/plain": [
       "2015"
      ]
     },
     "execution_count": 7,
     "metadata": {},
     "output_type": "execute_result"
    }
   ],
   "source": [
    "max(data.Year)"
   ]
  },
  {
   "cell_type": "code",
   "execution_count": 8,
   "metadata": {
    "collapsed": false
   },
   "outputs": [
    {
     "data": {
      "text/plain": [
       "1960"
      ]
     },
     "execution_count": 8,
     "metadata": {},
     "output_type": "execute_result"
    }
   ],
   "source": [
    "min(data.Year)"
   ]
  },
  {
   "cell_type": "code",
   "execution_count": 10,
   "metadata": {
    "collapsed": true
   },
   "outputs": [],
   "source": [
    "dataindia = data[data.CountryName == \"India\"]"
   ]
  },
  {
   "cell_type": "code",
   "execution_count": 11,
   "metadata": {
    "collapsed": false
   },
   "outputs": [
    {
     "data": {
      "text/html": [
       "<div>\n",
       "<table border=\"1\" class=\"dataframe\">\n",
       "  <thead>\n",
       "    <tr style=\"text-align: right;\">\n",
       "      <th></th>\n",
       "      <th>CountryName</th>\n",
       "      <th>CountryCode</th>\n",
       "      <th>IndicatorName</th>\n",
       "      <th>IndicatorCode</th>\n",
       "      <th>Year</th>\n",
       "      <th>Value</th>\n",
       "    </tr>\n",
       "  </thead>\n",
       "  <tbody>\n",
       "    <tr>\n",
       "      <th>11561</th>\n",
       "      <td>India</td>\n",
       "      <td>IND</td>\n",
       "      <td>Adolescent fertility rate (births per 1,000 wo...</td>\n",
       "      <td>SP.ADO.TFRT</td>\n",
       "      <td>1960</td>\n",
       "      <td>103.938000</td>\n",
       "    </tr>\n",
       "    <tr>\n",
       "      <th>11562</th>\n",
       "      <td>India</td>\n",
       "      <td>IND</td>\n",
       "      <td>Age dependency ratio (% of working-age populat...</td>\n",
       "      <td>SP.POP.DPND</td>\n",
       "      <td>1960</td>\n",
       "      <td>76.559538</td>\n",
       "    </tr>\n",
       "    <tr>\n",
       "      <th>11563</th>\n",
       "      <td>India</td>\n",
       "      <td>IND</td>\n",
       "      <td>Age dependency ratio, old (% of working-age po...</td>\n",
       "      <td>SP.POP.DPND.OL</td>\n",
       "      <td>1960</td>\n",
       "      <td>5.403730</td>\n",
       "    </tr>\n",
       "    <tr>\n",
       "      <th>11564</th>\n",
       "      <td>India</td>\n",
       "      <td>IND</td>\n",
       "      <td>Age dependency ratio, young (% of working-age ...</td>\n",
       "      <td>SP.POP.DPND.YG</td>\n",
       "      <td>1960</td>\n",
       "      <td>71.155808</td>\n",
       "    </tr>\n",
       "    <tr>\n",
       "      <th>11565</th>\n",
       "      <td>India</td>\n",
       "      <td>IND</td>\n",
       "      <td>Agriculture, value added (% of GDP)</td>\n",
       "      <td>NV.AGR.TOTL.ZS</td>\n",
       "      <td>1960</td>\n",
       "      <td>42.561131</td>\n",
       "    </tr>\n",
       "  </tbody>\n",
       "</table>\n",
       "</div>"
      ],
      "text/plain": [
       "      CountryName CountryCode  \\\n",
       "11561       India         IND   \n",
       "11562       India         IND   \n",
       "11563       India         IND   \n",
       "11564       India         IND   \n",
       "11565       India         IND   \n",
       "\n",
       "                                           IndicatorName   IndicatorCode  \\\n",
       "11561  Adolescent fertility rate (births per 1,000 wo...     SP.ADO.TFRT   \n",
       "11562  Age dependency ratio (% of working-age populat...     SP.POP.DPND   \n",
       "11563  Age dependency ratio, old (% of working-age po...  SP.POP.DPND.OL   \n",
       "11564  Age dependency ratio, young (% of working-age ...  SP.POP.DPND.YG   \n",
       "11565                Agriculture, value added (% of GDP)  NV.AGR.TOTL.ZS   \n",
       "\n",
       "       Year       Value  \n",
       "11561  1960  103.938000  \n",
       "11562  1960   76.559538  \n",
       "11563  1960    5.403730  \n",
       "11564  1960   71.155808  \n",
       "11565  1960   42.561131  "
      ]
     },
     "execution_count": 11,
     "metadata": {},
     "output_type": "execute_result"
    }
   ],
   "source": [
    "dataindia.head(5)"
   ]
  },
  {
   "cell_type": "code",
   "execution_count": 14,
   "metadata": {
    "collapsed": true
   },
   "outputs": [],
   "source": [
    "datausa = data[data.CountryName == \"United States\"]"
   ]
  },
  {
   "cell_type": "code",
   "execution_count": 15,
   "metadata": {
    "collapsed": false
   },
   "outputs": [
    {
     "data": {
      "text/html": [
       "<div>\n",
       "<table border=\"1\" class=\"dataframe\">\n",
       "  <thead>\n",
       "    <tr style=\"text-align: right;\">\n",
       "      <th></th>\n",
       "      <th>CountryName</th>\n",
       "      <th>CountryCode</th>\n",
       "      <th>IndicatorName</th>\n",
       "      <th>IndicatorCode</th>\n",
       "      <th>Year</th>\n",
       "      <th>Value</th>\n",
       "    </tr>\n",
       "  </thead>\n",
       "  <tbody>\n",
       "    <tr>\n",
       "      <th>22220</th>\n",
       "      <td>United States</td>\n",
       "      <td>USA</td>\n",
       "      <td>Adolescent fertility rate (births per 1,000 wo...</td>\n",
       "      <td>SP.ADO.TFRT</td>\n",
       "      <td>1960</td>\n",
       "      <td>84.987200</td>\n",
       "    </tr>\n",
       "    <tr>\n",
       "      <th>22221</th>\n",
       "      <td>United States</td>\n",
       "      <td>USA</td>\n",
       "      <td>Age dependency ratio (% of working-age populat...</td>\n",
       "      <td>SP.POP.DPND</td>\n",
       "      <td>1960</td>\n",
       "      <td>66.524844</td>\n",
       "    </tr>\n",
       "    <tr>\n",
       "      <th>22222</th>\n",
       "      <td>United States</td>\n",
       "      <td>USA</td>\n",
       "      <td>Age dependency ratio, old (% of working-age po...</td>\n",
       "      <td>SP.POP.DPND.OL</td>\n",
       "      <td>1960</td>\n",
       "      <td>15.230264</td>\n",
       "    </tr>\n",
       "    <tr>\n",
       "      <th>22223</th>\n",
       "      <td>United States</td>\n",
       "      <td>USA</td>\n",
       "      <td>Age dependency ratio, young (% of working-age ...</td>\n",
       "      <td>SP.POP.DPND.YG</td>\n",
       "      <td>1960</td>\n",
       "      <td>51.294580</td>\n",
       "    </tr>\n",
       "    <tr>\n",
       "      <th>22224</th>\n",
       "      <td>United States</td>\n",
       "      <td>USA</td>\n",
       "      <td>Alternative and nuclear energy (% of total ene...</td>\n",
       "      <td>EG.USE.COMM.CL.ZS</td>\n",
       "      <td>1960</td>\n",
       "      <td>1.261261</td>\n",
       "    </tr>\n",
       "  </tbody>\n",
       "</table>\n",
       "</div>"
      ],
      "text/plain": [
       "         CountryName CountryCode  \\\n",
       "22220  United States         USA   \n",
       "22221  United States         USA   \n",
       "22222  United States         USA   \n",
       "22223  United States         USA   \n",
       "22224  United States         USA   \n",
       "\n",
       "                                           IndicatorName      IndicatorCode  \\\n",
       "22220  Adolescent fertility rate (births per 1,000 wo...        SP.ADO.TFRT   \n",
       "22221  Age dependency ratio (% of working-age populat...        SP.POP.DPND   \n",
       "22222  Age dependency ratio, old (% of working-age po...     SP.POP.DPND.OL   \n",
       "22223  Age dependency ratio, young (% of working-age ...     SP.POP.DPND.YG   \n",
       "22224  Alternative and nuclear energy (% of total ene...  EG.USE.COMM.CL.ZS   \n",
       "\n",
       "       Year      Value  \n",
       "22220  1960  84.987200  \n",
       "22221  1960  66.524844  \n",
       "22222  1960  15.230264  \n",
       "22223  1960  51.294580  \n",
       "22224  1960   1.261261  "
      ]
     },
     "execution_count": 15,
     "metadata": {},
     "output_type": "execute_result"
    }
   ],
   "source": [
    "datausa.head(5)"
   ]
  },
  {
   "cell_type": "code",
   "execution_count": 20,
   "metadata": {
    "collapsed": false
   },
   "outputs": [],
   "source": [
    "import numpy as np\n",
    "    "
   ]
  },
  {
   "cell_type": "code",
   "execution_count": 21,
   "metadata": {
    "collapsed": true
   },
   "outputs": [],
   "source": [
    "lenusa =np.unique(datausa.IndicatorCode)"
   ]
  },
  {
   "cell_type": "code",
   "execution_count": 23,
   "metadata": {
    "collapsed": false
   },
   "outputs": [
    {
     "data": {
      "text/plain": [
       "849"
      ]
     },
     "execution_count": 23,
     "metadata": {},
     "output_type": "execute_result"
    }
   ],
   "source": [
    "len(lenusa)"
   ]
  },
  {
   "cell_type": "code",
   "execution_count": 24,
   "metadata": {
    "collapsed": true
   },
   "outputs": [],
   "source": [
    "lenindia =len(np.unique(dataindia.IndicatorCode))"
   ]
  },
  {
   "cell_type": "code",
   "execution_count": 25,
   "metadata": {
    "collapsed": false
   },
   "outputs": [
    {
     "data": {
      "text/plain": [
       "1262"
      ]
     },
     "execution_count": 25,
     "metadata": {},
     "output_type": "execute_result"
    }
   ],
   "source": [
    "lenindia"
   ]
  },
  {
   "cell_type": "code",
   "execution_count": 29,
   "metadata": {
    "collapsed": false
   },
   "outputs": [
    {
     "data": {
      "text/plain": [
       "2010    1029\n",
       "2005    1028\n",
       "2006     952\n",
       "2012     947\n",
       "2000     946\n",
       "2009     942\n",
       "2008     940\n",
       "2011     929\n",
       "2007     913\n",
       "2004     875\n",
       "2001     866\n",
       "1999     857\n",
       "2003     840\n",
       "2002     832\n",
       "1997     809\n",
       "1994     800\n",
       "2013     800\n",
       "1995     792\n",
       "1990     783\n",
       "1992     779\n",
       "1996     774\n",
       "1998     772\n",
       "1993     770\n",
       "1991     752\n",
       "2014     647\n",
       "1987     644\n",
       "1989     630\n",
       "1988     627\n",
       "1981     604\n",
       "1983     597\n",
       "1982     593\n",
       "1986     591\n",
       "1984     589\n",
       "1980     586\n",
       "1985     585\n",
       "1977     585\n",
       "1975     579\n",
       "1971     577\n",
       "1976     574\n",
       "1978     573\n",
       "1979     564\n",
       "1972     555\n",
       "1973     554\n",
       "1974     548\n",
       "1970     505\n",
       "1969     275\n",
       "1965     274\n",
       "1967     273\n",
       "1968     272\n",
       "1964     267\n",
       "1966     267\n",
       "1963     265\n",
       "1962     257\n",
       "1961     245\n",
       "1960     216\n",
       "2015      76\n",
       "Name: Year, dtype: int64"
      ]
     },
     "execution_count": 29,
     "metadata": {},
     "output_type": "execute_result"
    }
   ],
   "source": [
    "dataindia.Year.value_counts()"
   ]
  },
  {
   "cell_type": "code",
   "execution_count": 31,
   "metadata": {
    "collapsed": false
   },
   "outputs": [
    {
     "data": {
      "text/plain": [
       "11561      Adolescent fertility rate (births per 1,000 wo...\n",
       "11562      Age dependency ratio (% of working-age populat...\n",
       "11563      Age dependency ratio, old (% of working-age po...\n",
       "11564      Age dependency ratio, young (% of working-age ...\n",
       "11565                    Agriculture, value added (% of GDP)\n",
       "11566           Agriculture, value added (constant 2005 US$)\n",
       "11567                Agriculture, value added (constant LCU)\n",
       "11568                 Agriculture, value added (current LCU)\n",
       "11569                 Agriculture, value added (current US$)\n",
       "11570            Arms imports (SIPRI trend indicator values)\n",
       "11571                   Birth rate, crude (per 1,000 people)\n",
       "11572                  Changes in inventories (constant LCU)\n",
       "11573                   Changes in inventories (current LCU)\n",
       "11574                   Changes in inventories (current US$)\n",
       "11575                 CO2 emissions (kg per 2005 US$ of GDP)\n",
       "11576                                     CO2 emissions (kt)\n",
       "11577                 CO2 emissions (metric tons per capita)\n",
       "11578      CO2 emissions from gaseous fuel consumption (%...\n",
       "11579       CO2 emissions from gaseous fuel consumption (kt)\n",
       "11580      CO2 emissions from liquid fuel consumption (% ...\n",
       "11581        CO2 emissions from liquid fuel consumption (kt)\n",
       "11582      CO2 emissions from solid fuel consumption (% o...\n",
       "11583         CO2 emissions from solid fuel consumption (kt)\n",
       "11584                      Consumer price index (2010 = 100)\n",
       "11585                   Death rate, crude (per 1,000 people)\n",
       "11586        DEC alternative conversion factor (LCU per US$)\n",
       "11587      Discrepancy in expenditure estimate of GDP (co...\n",
       "11588      Discrepancy in expenditure estimate of GDP (cu...\n",
       "11589         Exports as a capacity to import (constant LCU)\n",
       "11590               Exports of goods and services (% of GDP)\n",
       "                                 ...                        \n",
       "5648813                 PPG, multilateral (DIS, current US$)\n",
       "5648814                 PPG, multilateral (INT, current US$)\n",
       "5648815           PPG, official creditors (AMT, current US$)\n",
       "5648816           PPG, official creditors (DIS, current US$)\n",
       "5648817           PPG, official creditors (INT, current US$)\n",
       "5648818      PPG, other private creditors (AMT, current US$)\n",
       "5648819      PPG, other private creditors (DIS, current US$)\n",
       "5648820      PPG, other private creditors (INT, current US$)\n",
       "5648821            PPG, private creditors (AMT, current US$)\n",
       "5648822            PPG, private creditors (DIS, current US$)\n",
       "5648823            PPG, private creditors (INT, current US$)\n",
       "5648824    Principal repayments on external debt, long-te...\n",
       "5648825    Principal repayments on external debt, private...\n",
       "5648826         Private credit bureau coverage (% of adults)\n",
       "5648827             Procedures to build a warehouse (number)\n",
       "5648828             Procedures to register property (number)\n",
       "5648829    Proportion of seats held by women in national ...\n",
       "5648830        Public credit registry coverage (% of adults)\n",
       "5648831    Source data assessment of statistical capacity...\n",
       "5648832    Start-up procedures to register a business (nu...\n",
       "5648833    Strength of legal rights index (0=weak to 12=s...\n",
       "5648834                                Tax payments (number)\n",
       "5648835            Time required to build a warehouse (days)\n",
       "5648836           Time required to enforce a contract (days)\n",
       "5648837              Time required to get electricity (days)\n",
       "5648838            Time required to register property (days)\n",
       "5648839             Time required to start a business (days)\n",
       "5648840                Time to prepare and pay taxes (hours)\n",
       "5648841                   Time to resolve insolvency (years)\n",
       "5648842             Total tax rate (% of commercial profits)\n",
       "Name: IndicatorName, dtype: object"
      ]
     },
     "execution_count": 31,
     "metadata": {},
     "output_type": "execute_result"
    }
   ],
   "source": [
    "dataindia.IndicatorName"
   ]
  },
  {
   "cell_type": "code",
   "execution_count": 43,
   "metadata": {
    "collapsed": false
   },
   "outputs": [],
   "source": [
    "india1960 = dataindia[(dataindia.IndicatorName == \"CO2 emissions (metric tons per capita)\") & (dataindia.Year == 1960) ]"
   ]
  },
  {
   "cell_type": "code",
   "execution_count": 36,
   "metadata": {
    "collapsed": false
   },
   "outputs": [
    {
     "data": {
      "text/plain": [
       "11561      Adolescent fertility rate (births per 1,000 wo...\n",
       "11562      Age dependency ratio (% of working-age populat...\n",
       "11563      Age dependency ratio, old (% of working-age po...\n",
       "11564      Age dependency ratio, young (% of working-age ...\n",
       "11565                    Agriculture, value added (% of GDP)\n",
       "11566           Agriculture, value added (constant 2005 US$)\n",
       "11567                Agriculture, value added (constant LCU)\n",
       "11568                 Agriculture, value added (current LCU)\n",
       "11569                 Agriculture, value added (current US$)\n",
       "11570            Arms imports (SIPRI trend indicator values)\n",
       "11571                   Birth rate, crude (per 1,000 people)\n",
       "11572                  Changes in inventories (constant LCU)\n",
       "11573                   Changes in inventories (current LCU)\n",
       "11574                   Changes in inventories (current US$)\n",
       "11575                 CO2 emissions (kg per 2005 US$ of GDP)\n",
       "11576                                     CO2 emissions (kt)\n",
       "11577                 CO2 emissions (metric tons per capita)\n",
       "11578      CO2 emissions from gaseous fuel consumption (%...\n",
       "11579       CO2 emissions from gaseous fuel consumption (kt)\n",
       "11580      CO2 emissions from liquid fuel consumption (% ...\n",
       "11581        CO2 emissions from liquid fuel consumption (kt)\n",
       "11582      CO2 emissions from solid fuel consumption (% o...\n",
       "11583         CO2 emissions from solid fuel consumption (kt)\n",
       "11584                      Consumer price index (2010 = 100)\n",
       "11585                   Death rate, crude (per 1,000 people)\n",
       "11586        DEC alternative conversion factor (LCU per US$)\n",
       "11587      Discrepancy in expenditure estimate of GDP (co...\n",
       "11588      Discrepancy in expenditure estimate of GDP (cu...\n",
       "11589         Exports as a capacity to import (constant LCU)\n",
       "11590               Exports of goods and services (% of GDP)\n",
       "                                 ...                        \n",
       "5648813                 PPG, multilateral (DIS, current US$)\n",
       "5648814                 PPG, multilateral (INT, current US$)\n",
       "5648815           PPG, official creditors (AMT, current US$)\n",
       "5648816           PPG, official creditors (DIS, current US$)\n",
       "5648817           PPG, official creditors (INT, current US$)\n",
       "5648818      PPG, other private creditors (AMT, current US$)\n",
       "5648819      PPG, other private creditors (DIS, current US$)\n",
       "5648820      PPG, other private creditors (INT, current US$)\n",
       "5648821            PPG, private creditors (AMT, current US$)\n",
       "5648822            PPG, private creditors (DIS, current US$)\n",
       "5648823            PPG, private creditors (INT, current US$)\n",
       "5648824    Principal repayments on external debt, long-te...\n",
       "5648825    Principal repayments on external debt, private...\n",
       "5648826         Private credit bureau coverage (% of adults)\n",
       "5648827             Procedures to build a warehouse (number)\n",
       "5648828             Procedures to register property (number)\n",
       "5648829    Proportion of seats held by women in national ...\n",
       "5648830        Public credit registry coverage (% of adults)\n",
       "5648831    Source data assessment of statistical capacity...\n",
       "5648832    Start-up procedures to register a business (nu...\n",
       "5648833    Strength of legal rights index (0=weak to 12=s...\n",
       "5648834                                Tax payments (number)\n",
       "5648835            Time required to build a warehouse (days)\n",
       "5648836           Time required to enforce a contract (days)\n",
       "5648837              Time required to get electricity (days)\n",
       "5648838            Time required to register property (days)\n",
       "5648839             Time required to start a business (days)\n",
       "5648840                Time to prepare and pay taxes (hours)\n",
       "5648841                   Time to resolve insolvency (years)\n",
       "5648842             Total tax rate (% of commercial profits)\n",
       "Name: IndicatorName, dtype: object"
      ]
     },
     "execution_count": 36,
     "metadata": {},
     "output_type": "execute_result"
    }
   ],
   "source": [
    "dataindia.IndicatorName"
   ]
  },
  {
   "cell_type": "code",
   "execution_count": 44,
   "metadata": {
    "collapsed": false
   },
   "outputs": [
    {
     "data": {
      "text/html": [
       "<div>\n",
       "<table border=\"1\" class=\"dataframe\">\n",
       "  <thead>\n",
       "    <tr style=\"text-align: right;\">\n",
       "      <th></th>\n",
       "      <th>CountryName</th>\n",
       "      <th>CountryCode</th>\n",
       "      <th>IndicatorName</th>\n",
       "      <th>IndicatorCode</th>\n",
       "      <th>Year</th>\n",
       "      <th>Value</th>\n",
       "    </tr>\n",
       "  </thead>\n",
       "  <tbody>\n",
       "    <tr>\n",
       "      <th>11577</th>\n",
       "      <td>India</td>\n",
       "      <td>IND</td>\n",
       "      <td>CO2 emissions (metric tons per capita)</td>\n",
       "      <td>EN.ATM.CO2E.PC</td>\n",
       "      <td>1960</td>\n",
       "      <td>0.268161</td>\n",
       "    </tr>\n",
       "  </tbody>\n",
       "</table>\n",
       "</div>"
      ],
      "text/plain": [
       "      CountryName CountryCode                           IndicatorName  \\\n",
       "11577       India         IND  CO2 emissions (metric tons per capita)   \n",
       "\n",
       "        IndicatorCode  Year     Value  \n",
       "11577  EN.ATM.CO2E.PC  1960  0.268161  "
      ]
     },
     "execution_count": 44,
     "metadata": {},
     "output_type": "execute_result"
    }
   ],
   "source": [
    "india1960"
   ]
  },
  {
   "cell_type": "code",
   "execution_count": 51,
   "metadata": {
    "collapsed": true
   },
   "outputs": [],
   "source": [
    "india2011 = dataindia[(dataindia.IndicatorName == \"CO2 emissions (metric tons per capita)\") & (dataindia.Year == 2011) ]"
   ]
  },
  {
   "cell_type": "code",
   "execution_count": 52,
   "metadata": {
    "collapsed": false
   },
   "outputs": [
    {
     "data": {
      "text/html": [
       "<div>\n",
       "<table border=\"1\" class=\"dataframe\">\n",
       "  <thead>\n",
       "    <tr style=\"text-align: right;\">\n",
       "      <th></th>\n",
       "      <th>CountryName</th>\n",
       "      <th>CountryCode</th>\n",
       "      <th>IndicatorName</th>\n",
       "      <th>IndicatorCode</th>\n",
       "      <th>Year</th>\n",
       "      <th>Value</th>\n",
       "    </tr>\n",
       "  </thead>\n",
       "  <tbody>\n",
       "    <tr>\n",
       "      <th>5111048</th>\n",
       "      <td>India</td>\n",
       "      <td>IND</td>\n",
       "      <td>CO2 emissions (metric tons per capita)</td>\n",
       "      <td>EN.ATM.CO2E.PC</td>\n",
       "      <td>2011</td>\n",
       "      <td>1.662873</td>\n",
       "    </tr>\n",
       "  </tbody>\n",
       "</table>\n",
       "</div>"
      ],
      "text/plain": [
       "        CountryName CountryCode                           IndicatorName  \\\n",
       "5111048       India         IND  CO2 emissions (metric tons per capita)   \n",
       "\n",
       "          IndicatorCode  Year     Value  \n",
       "5111048  EN.ATM.CO2E.PC  2011  1.662873  "
      ]
     },
     "execution_count": 52,
     "metadata": {},
     "output_type": "execute_result"
    }
   ],
   "source": [
    "india2011"
   ]
  },
  {
   "cell_type": "code",
   "execution_count": 47,
   "metadata": {
    "collapsed": true
   },
   "outputs": [],
   "source": [
    "india4 = dataindia.Year[dataindia.IndicatorName == \"CO2 emissions (metric tons per capita)\"]"
   ]
  },
  {
   "cell_type": "code",
   "execution_count": 48,
   "metadata": {
    "collapsed": false
   },
   "outputs": [
    {
     "data": {
      "text/plain": [
       "11577      1960\n",
       "36513      1961\n",
       "64049      1962\n",
       "92493      1963\n",
       "121290     1964\n",
       "151960     1965\n",
       "183696     1966\n",
       "215614     1967\n",
       "248229     1968\n",
       "281013     1969\n",
       "328981     1970\n",
       "394145     1971\n",
       "463143     1972\n",
       "532843     1973\n",
       "602733     1974\n",
       "673972     1975\n",
       "746819     1976\n",
       "821373     1977\n",
       "896826     1978\n",
       "972720     1979\n",
       "1051388    1980\n",
       "1134476    1981\n",
       "1219181    1982\n",
       "1304397    1983\n",
       "1389980    1984\n",
       "1476458    1985\n",
       "1564184    1986\n",
       "1652897    1987\n",
       "1742020    1988\n",
       "1833150    1989\n",
       "1937581    1990\n",
       "2054745    1991\n",
       "2172860    1992\n",
       "2295832    1993\n",
       "2420604    1994\n",
       "2550484    1995\n",
       "2685508    1996\n",
       "2820939    1997\n",
       "2957924    1998\n",
       "3097200    1999\n",
       "3245535    2000\n",
       "3397900    2001\n",
       "3550525    2002\n",
       "3704753    2003\n",
       "3860115    2004\n",
       "4029576    2005\n",
       "4208130    2006\n",
       "4386994    2007\n",
       "4567309    2008\n",
       "4746431    2009\n",
       "4929232    2010\n",
       "5111048    2011\n",
       "Name: Year, dtype: int64"
      ]
     },
     "execution_count": 48,
     "metadata": {},
     "output_type": "execute_result"
    }
   ],
   "source": [
    "india4"
   ]
  },
  {
   "cell_type": "code",
   "execution_count": 55,
   "metadata": {
    "collapsed": false
   },
   "outputs": [],
   "source": []
  },
  {
   "cell_type": "code",
   "execution_count": 56,
   "metadata": {
    "collapsed": true
   },
   "outputs": [],
   "source": [
    "indiaco2 = dataindia[dataindia.IndicatorName == \"CO2 emissions (metric tons per capita)\"]"
   ]
  },
  {
   "cell_type": "code",
   "execution_count": 57,
   "metadata": {
    "collapsed": true
   },
   "outputs": [],
   "source": [
    "years = indiaco2.Year.values"
   ]
  },
  {
   "cell_type": "code",
   "execution_count": 58,
   "metadata": {
    "collapsed": true
   },
   "outputs": [],
   "source": [
    "co2 = indiaco2.Value.values"
   ]
  },
  {
   "cell_type": "code",
   "execution_count": 63,
   "metadata": {
    "collapsed": false
   },
   "outputs": [
    {
     "data": {
      "image/png": "[encoded data removed]",
      "text/plain": [
       "<matplotlib.figure.Figure at 0xf10feb3ba8>"
      ]
     },
     "metadata": {},
     "output_type": "display_data"
    }
   ],
   "source": [
    "e = plt.plot(years,co2)"
   ]
  },
  {
   "cell_type": "code",
   "execution_count": 67,
   "metadata": {
    "collapsed": false
   },
   "outputs": [
    {
     "data": {
      "image/png": "[encoded data removed]",
      "text/plain": [
       "<matplotlib.figure.Figure at 0xf110fda780>"
      ]
     },
     "metadata": {},
     "output_type": "display_data"
    }
   ],
   "source": [
    "plt.plot(years,co2)\n",
    "plt.xlabel('Year')\n",
    "plt.ylabel(\"CO2 emissions\")\n",
    "plt.title(\"Yearly CO2 Emissions for India\")\n",
    "plt.show()"
   ]
  },
  {
   "cell_type": "code",
   "execution_count": null,
   "metadata": {
    "collapsed": true
   },
   "outputs": [],
   "source": []
  }
 ],
 "metadata": {
  "kernelspec": {
   "display_name": "Python 3",
   "language": "python",
   "name": "python3"
  },
  "language_info": {
   "codemirror_mode": {
    "name": "ipython",
    "version": 3
   },
   "file_extension": ".py",
   "mimetype": "text/x-python",
   "name": "python",
   "nbconvert_exporter": "python",
   "pygments_lexer": "ipython3",
   "version": "3.6.0"
  }
 },
 "nbformat": 4,
 "nbformat_minor": 2
}
